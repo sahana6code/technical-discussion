{
  "cells": [
    {
      "cell_type": "markdown",
      "metadata": {
        "id": "view-in-github",
        "colab_type": "text"
      },
      "source": [
        "<a href=\"https://colab.research.google.com/github/sahana6code/technical-discussion/blob/main/(Week_2)_Practice_Markdown.ipynb\" target=\"_parent\"><img src=\"https://colab.research.google.com/assets/colab-badge.svg\" alt=\"Open In Colab\"/></a>"
      ]
    },
    {
      "cell_type": "markdown",
      "metadata": {
        "id": "7It8mulNakfU"
      },
      "source": [
        "## Practice Markdown"
      ]
    },
    {
      "cell_type": "markdown",
      "metadata": {
        "id": "awpwGZlyakfW"
      },
      "source": [
        "This notebook lets you experiment with producing repeatable technical documentation.  Use this notebook to do the following actions:\n",
        "\n",
        "* Create a code cell and print a Python Hello World statement:  `print(\"hello world\")`\n",
        "* Create a Markdown Cell and add a Title using `#` and then a statement using plain text.  You can looks at the source code for this cell to get an idea of how to use Markdown.\n",
        "* Take some ideas from the [Master Markdown Github Guide](https://guides.github.com/features/mastering-markdown/) and implement them here.\n",
        "* Download this notebook as a `.ipynb` file and check into a Github Project.  You can [see an example here](https://github.com/noahgift/duke-coursera-ccf-lab1/blob/main/Practice-Markdown.ipynb).\n",
        "* Open your notebook in Google Colab and save it into the same Github Project.  You can [see an example here](https://github.com/noahgift/duke-coursera-ccf-lab1/blob/main/Practice_Markdown_with_colab.ipynb).\n"
      ]
    },
    {
      "cell_type": "code",
      "execution_count": null,
      "metadata": {
        "id": "emarTkZdakfW",
        "outputId": "afc1e727-eee1-4acf-98b0-f09c6fd80ebb"
      },
      "outputs": [
        {
          "name": "stdout",
          "output_type": "stream",
          "text": [
            "hello world\n"
          ]
        }
      ],
      "source": [
        "print(\"hello world\")"
      ]
    },
    {
      "cell_type": "markdown",
      "metadata": {
        "id": "0BOWNRx-akfX"
      },
      "source": [
        "# Title\n"
      ]
    },
    {
      "cell_type": "markdown",
      "metadata": {
        "id": "TqmYkA4RakfY"
      },
      "source": [
        "This an example of a normal statement under a markdown cell."
      ]
    },
    {
      "cell_type": "markdown",
      "metadata": {
        "id": "kA2KVMjOakfY"
      },
      "source": [
        "### This is a third level heading."
      ]
    },
    {
      "cell_type": "markdown",
      "metadata": {
        "id": "ZaG9-0wFakfY"
      },
      "source": [
        "**This text is _extremely_ important.**"
      ]
    },
    {
      "cell_type": "markdown",
      "metadata": {
        "id": "BzYzM-d_akfY"
      },
      "source": [
        "My happiness is doubled 10<sup>2</sup> times when I learn new things."
      ]
    },
    {
      "cell_type": "markdown",
      "metadata": {
        "id": "8MlVPNiGakfY"
      },
      "source": [
        "My favourite quites by Isaac newton is:"
      ]
    },
    {
      "cell_type": "markdown",
      "metadata": {
        "id": "4AM3NRXeakfY"
      },
      "source": [
        " > \"What we know is a drop, what we do not know is an ocean.\""
      ]
    },
    {
      "cell_type": "markdown",
      "metadata": {
        "id": "e-HLmnMKakfZ"
      },
      "source": [
        "Such videos from [The Organic Chemistry Tutor](\"https://www.youtube.com/c/TheOrganicChemistryTutor\") has greatly helped me in my academic journey."
      ]
    },
    {
      "cell_type": "code",
      "execution_count": null,
      "metadata": {
        "id": "18ypqFcQakfZ"
      },
      "outputs": [],
      "source": []
    }
  ],
  "metadata": {
    "kernelspec": {
      "display_name": "Python 3",
      "language": "python",
      "name": "python3"
    },
    "language_info": {
      "codemirror_mode": {
        "name": "ipython",
        "version": 3
      },
      "file_extension": ".py",
      "mimetype": "text/x-python",
      "name": "python",
      "nbconvert_exporter": "python",
      "pygments_lexer": "ipython3",
      "version": "3.7.6"
    },
    "colab": {
      "provenance": [],
      "include_colab_link": true
    }
  },
  "nbformat": 4,
  "nbformat_minor": 0
}